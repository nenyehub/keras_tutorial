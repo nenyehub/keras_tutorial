{
  "nbformat": 4,
  "nbformat_minor": 0,
  "metadata": {
    "colab": {
      "name": "mnist_gan.ipynb",
      "version": "0.3.2",
      "provenance": [],
      "include_colab_link": true
    },
    "kernelspec": {
      "display_name": "Python 3",
      "language": "python",
      "name": "python3"
    }
  },
  "cells": [
    {
      "cell_type": "markdown",
      "metadata": {
        "id": "view-in-github",
        "colab_type": "text"
      },
      "source": [
        "[View in Colaboratory](https://colab.research.google.com/github/peterjsadowski/keras_tutorial/blob/master/3_keras_mnist_GAN.ipynb)"
      ]
    },
    {
      "metadata": {
        "id": "jZ5Mkwyxz-yF",
        "colab_type": "text"
      },
      "cell_type": "markdown",
      "source": [
        "# Keras Tutorial for Generative Adversarial Nets\n",
        "This tutorial introduces Generative Adversarial Networks on MNIST.\n",
        " \n"
      ]
    },
    {
      "metadata": {
        "id": "cUgCKtD4z-yG",
        "colab_type": "code",
        "colab": {
          "base_uri": "https://localhost:8080/",
          "height": 35
        },
        "outputId": "185f9b57-67e7-433e-c812-104711e6a16f"
      },
      "cell_type": "code",
      "source": [
        "import numpy as np\n",
        "import os\n",
        "import numpy.random\n",
        "import matplotlib.pyplot as plt\n",
        "\n",
        "os.environ['CUDA_VISIBLE_DEVICES'] = '0'\n",
        "import tensorflow as tf\n",
        "CONFIG = tf.ConfigProto(device_count = {'GPU': 1}, log_device_placement=False, allow_soft_placement=False)\n",
        "CONFIG.gpu_options.allow_growth = True # Prevents tf from grabbing all gpu memory.\n",
        "sess = tf.Session(config=CONFIG)\n",
        "\n",
        "from collections import defaultdict\n",
        "from tqdm import tqdm\n",
        "from IPython import display\n",
        "\n",
        "import keras\n",
        "from keras.datasets import mnist\n",
        "from keras.models import Model, Sequential\n",
        "from keras.layers import Dense, Dropout, Activation, Input, Convolution2D, Flatten, merge, BatchNormalization\n",
        "from keras.utils import np_utils\n",
        "from keras.optimizers import SGD, Adam\n"
      ],
      "execution_count": 1,
      "outputs": [
        {
          "output_type": "stream",
          "text": [
            "Using TensorFlow backend.\n"
          ],
          "name": "stderr"
        }
      ]
    },
    {
      "metadata": {
        "id": "TVd9otiYz-yM",
        "colab_type": "text"
      },
      "cell_type": "markdown",
      "source": [
        "## Define data."
      ]
    },
    {
      "metadata": {
        "id": "bseTbVObz-yO",
        "colab_type": "code",
        "colab": {},
        "outputId": "8e5aaef7-a1a1-4b8c-ba50-0758c0d259a7"
      },
      "cell_type": "code",
      "source": [
        "# Load data.\n",
        "(X_train, Y_train), (X_test, Y_test) = mnist.load_data()\n",
        "print(\"Original X shape\", X_train.shape)\n",
        "print(\"Original Y shape\", Y_train.shape)\n",
        "\n",
        "# Reshape data.\n",
        "X_train = X_train.reshape(60000, 784)\n",
        "X_test  = X_test.reshape(10000, 784)\n",
        "X_train = X_train.astype('float32') \n",
        "X_test  = X_test.astype('float32')\n",
        "X_train /= 255 # Original data is uint8 (0-255). Scale it to range [0,1].\n",
        "X_test  /= 255\n",
        "print(\"Training X matrix shape\", X_train.shape)\n",
        "print(\"Testing X matrix shape\", X_test.shape)\n",
        "    \n",
        "# Represent the targets as one-hot vectors: e.g. 2 -> [0, 0, 1, 0, 0, 0, 0, 0, 0].\n",
        "nb_classes = 10\n",
        "Y_train = np_utils.to_categorical(Y_train, nb_classes)\n",
        "Y_test  = np_utils.to_categorical(Y_test, nb_classes)\n",
        "print(\"Training Y matrix shape\", Y_train.shape)\n",
        "print(\"Testing Y matrix shape\", Y_test.shape)"
      ],
      "execution_count": 0,
      "outputs": [
        {
          "output_type": "stream",
          "text": [
            "Original X shape (60000, 28, 28)\n",
            "Original Y shape (60000,)\n",
            "Training X matrix shape (60000, 784)\n",
            "Testing X matrix shape (10000, 784)\n",
            "Training Y matrix shape (60000, 10)\n",
            "Testing Y matrix shape (10000, 10)\n"
          ],
          "name": "stdout"
        }
      ]
    },
    {
      "metadata": {
        "id": "fZirAYc7z-yT",
        "colab_type": "text"
      },
      "cell_type": "markdown",
      "source": [
        "# Define Keras Model\n"
      ]
    },
    {
      "metadata": {
        "id": "YKugZxVnz-yT",
        "colab_type": "code",
        "colab": {}
      },
      "cell_type": "code",
      "source": [
        "# Model\n",
        "def define_generator(ndense=1, nhid=100, lr=1e-3, act='relu', mom=0.9, dropout=0.0, input_shape=20):\n",
        "    # Define 'generator' that predicts sig vs bg from features.\n",
        "    input_shape = input_shape # Number of inputs to generator (random numbers)\n",
        "    output_shape= 784\n",
        "    ndense      = 2\n",
        "    nhid        = 100\n",
        "    act         = 'relu'\n",
        "    input       = Input(shape=(input_shape,), name='input')\n",
        "    x           = input\n",
        "    for i in range(ndense):\n",
        "        x = Dense(output_dim=nhid, activation=act, init='glorot_normal')(x)\n",
        "        x = BatchNormalization()(x)\n",
        "    output    = Dense(output_dim=output_shape, activation='sigmoid', init='glorot_normal', name='output')(x)\n",
        "    generator = Model(input, output)\n",
        "    opt       = Adam(lr=lr, beta_1=mom) \n",
        "    generator.compile(loss='binary_crossentropy', optimizer=opt)\n",
        "    return generator\n",
        "\n",
        "def define_discriminator(ndense=1, nhid=100, act='relu', lr=1e-3, mom=0.9, decay=0.0, dropout=0.0):\n",
        "    # Define 'discriminator' that predicts whether input is generated vs. real.\n",
        "    input_shape = 784 \n",
        "    output_shape= 1 \n",
        "    ndense      = ndense\n",
        "    nhid        = nhid\n",
        "    act         = act\n",
        "    input       = Input(shape=(input_shape,))\n",
        "    x           = input\n",
        "    for i in range(ndense):\n",
        "        x = Dense(output_dim=nhid, activation=act, init='glorot_normal')(x)\n",
        "    output = Dense(output_dim=output_shape, activation='sigmoid', init='glorot_normal')(x)\n",
        "    discriminator = Model(input, output)\n",
        "    #opt       = Adam(lr=lr, beta_1=mom) \n",
        "    opt = SGD(lr=lr,momentum=mom,decay=decay)\n",
        "    discriminator.compile(loss='binary_crossentropy', optimizer=opt)\n",
        "    return discriminator\n",
        "\n",
        "def plot_loss(history):\n",
        "    plt.figure(1)\n",
        "    plt.clf()\n",
        "    for k in history:\n",
        "        plt.plot(history[k], label=k)\n",
        "    plt.legend()\n",
        "    plt.xlabel('Epoch')\n",
        "    plt.ylabel('')\n",
        "    #plt.show()\n",
        "    \n",
        "def plot_gen(generator, input_shape):\n",
        "    noisebatch = np.random.uniform(-1, 1, size=[10, input_shape])\n",
        "    generated  = generator.predict(noisebatch)\n",
        "    plt.figure(2, figsize=(14,5))\n",
        "    plt.clf()\n",
        "    for i in range(10):\n",
        "        plt.subplot(2,5, i+1)\n",
        "        plt.imshow(generated[i,:].reshape(28,28), cmap='gray', interpolation='none', vmin=0.0, vmax=1.0)\n",
        "        plt.xticks([])\n",
        "        plt.yticks([]) \n",
        "    plt.show()"
      ],
      "execution_count": 0,
      "outputs": []
    },
    {
      "metadata": {
        "id": "CHm8f363z-yX",
        "colab_type": "text"
      },
      "cell_type": "markdown",
      "source": [
        "# Training"
      ]
    },
    {
      "metadata": {
        "id": "agHlta29z-yY",
        "colab_type": "code",
        "colab": {},
        "outputId": "f43cb366-b3b5-4dec-a1fe-2078c71a7eb7"
      },
      "cell_type": "code",
      "source": [
        "num_epochs  = 10000  *3\n",
        "plt_frq     = 500\n",
        "batchsize   = 100\n",
        "input_shape = 10 # Number of random inputs to generator.\n",
        "lr          = .01\n",
        "momgen      = 0.\n",
        "momdisc     = 0.\n",
        "clipnorm    = 1.\n",
        "decay     =   1e-5\n",
        "\n",
        "generator     = define_generator(ndense=4, nhid=100, act='tanh', input_shape=input_shape)\n",
        "discriminator = define_discriminator(ndense=2, nhid=20, act='tanh', lr=lr*10, mom=momdisc,decay=decay) #, clipnorm=clipnorm)\n",
        "discriminator.trainable = False\n",
        "gan           = Sequential(layers=[generator, discriminator])\n",
        "gan.compile(loss='binary_crossentropy', optimizer=SGD(lr=lr, momentum=momgen, decay=decay, clipnorm=clipnorm))\n",
        "      \n",
        "history = defaultdict(list)\n",
        "for epoch in tqdm(range(num_epochs)):  \n",
        "\n",
        "    # Generate images.\n",
        "    noisebatch = np.random.uniform(-1, 1, size=[batchsize,input_shape])\n",
        "    generated  = generator.predict(noisebatch)\n",
        "\n",
        "    # Update discriminator.\n",
        "    databatch  = X_train[np.random.randint(0,X_train.shape[0], size=batchsize), :]    \n",
        "    X          = np.concatenate([databatch, generated])\n",
        "    T          = np.concatenate([np.ones((databatch.shape[0],)), np.zeros((generated.shape[0],))]) # Real:1, fake:0\n",
        "    discriminator.trainable = True\n",
        "    d_loss  = discriminator.train_on_batch(X,T)\n",
        "    history[\"d_loss\"].append(d_loss)\n",
        "    \n",
        "    # Update generator.\n",
        "    noisebatch = np.random.uniform(-1, 1, size=[batchsize,input_shape])\n",
        "    T          = np.ones((noisebatch.shape[0],)) # Try to generate data that looks real.\n",
        "    discriminator.trainable = False\n",
        "    g_loss = gan.train_on_batch(noisebatch, T)\n",
        "    history[\"g_loss\"].append(g_loss)\n",
        "    \n",
        "    # Updates plots\n",
        "    if epoch % plt_frq == plt_frq - 1:\n",
        "        display.clear_output(wait=True)\n",
        "        display.display(plt.gcf())\n",
        "        plot_loss(history)\n",
        "        plot_gen(generator, input_shape=input_shape)\n",
        "        "
      ],
      "execution_count": 0,
      "outputs": [
        {
          "output_type": "display_data",
          "data": {
            "text/plain": [
              "<Figure size 432x288 with 0 Axes>"
            ]
          },
          "metadata": {
            "tags": []
          }
        },
        {
          "output_type": "display_data",
          "data": {
            "image/png": "[encoded data removed]",
            "text/plain": [
              "<Figure size 432x288 with 1 Axes>"
            ]
          },
          "metadata": {
            "tags": []
          }
        },
        {
          "output_type": "display_data",
          "data": {
            "image/png": "[encoded data removed]",
            "text/plain": [
              "<Figure size 1008x360 with 10 Axes>"
            ]
          },
          "metadata": {
            "tags": []
          }
        },
        {
          "output_type": "stream",
          "text": [
            "100%|██████████| 30000/30000 [07:37<00:00, 65.63it/s]\n"
          ],
          "name": "stderr"
        }
      ]
    },
    {
      "metadata": {
        "id": "43udmjgIz-yc",
        "colab_type": "text"
      },
      "cell_type": "markdown",
      "source": [
        "# Attempt 2: Convolution"
      ]
    },
    {
      "metadata": {
        "id": "rCeHJEaZz-yd",
        "colab_type": "code",
        "colab": {}
      },
      "cell_type": "code",
      "source": [
        "from keras.models import Sequential\n",
        "from keras.layers import Dense\n",
        "from keras.layers import Reshape\n",
        "from keras.layers.core import Activation\n",
        "from keras.layers.normalization import BatchNormalization\n",
        "from keras.layers.convolutional import UpSampling2D\n",
        "from keras.layers.convolutional import Convolution2D, MaxPooling2D\n",
        "from keras.layers.core import Flatten\n",
        "from keras.optimizers import SGD\n",
        "from keras.datasets import mnist\n",
        "import numpy as np\n",
        "#from PIL import Image\n",
        "import argparse\n",
        "import math\n",
        "\n",
        "def generator_model():\n",
        "    model = Sequential()\n",
        "    model.add(Dense(input_dim=100, output_dim=1024))\n",
        "    model.add(Activation('tanh'))\n",
        "    model.add(Dense(128*7*7))\n",
        "    model.add(BatchNormalization())\n",
        "    model.add(Activation('tanh'))\n",
        "    model.add(Reshape((128, 7, 7), input_shape=(128*7*7,)))\n",
        "    model.add(UpSampling2D(size=(2, 2)))\n",
        "    model.add(Convolution2D(64, 5, 5, border_mode='same'))\n",
        "    model.add(Activation('tanh'))\n",
        "    model.add(UpSampling2D(size=(2, 2)))\n",
        "    model.add(Convolution2D(1, 5, 5, border_mode='same'))\n",
        "    model.add(Activation('tanh'))\n",
        "    return model\n",
        "\n",
        "\n",
        "def discriminator_model():\n",
        "    model = Sequential()\n",
        "    model.add(Convolution2D(\n",
        "                        64, 5, 5,\n",
        "                        border_mode='same',\n",
        "                        input_shape=(1, 28, 28)))\n",
        "    model.add(Activation('tanh'))\n",
        "    model.add(MaxPooling2D(pool_size=(2, 2)))\n",
        "    model.add(Convolution2D(128, 5, 5))\n",
        "    model.add(Activation('tanh'))\n",
        "    model.add(MaxPooling2D(pool_size=(2, 2)))\n",
        "    model.add(Flatten())\n",
        "    model.add(Dense(1024))\n",
        "    model.add(Activation('tanh'))\n",
        "    model.add(Dense(1))\n",
        "    model.add(Activation('sigmoid'))\n",
        "    return model\n",
        "\n",
        "def generator_containing_discriminator(generator, discriminator):\n",
        "    model = Sequential()\n",
        "    model.add(generator)\n",
        "    discriminator.trainable = False\n",
        "    model.add(discriminator)\n",
        "    return model\n",
        "\n",
        "num_epochs  = 10000 \n",
        "plt_frq     = 500 \n",
        "batchsize   = 100\n",
        "input_shape = 10 # Number of random inputs to generator.\n",
        "lr          = .01\n",
        "momgen      = 0.0\n",
        "momdisc     = 0.0\n",
        "clipnorm    = 1.\n",
        "decay     =   1e-5\n",
        "\n",
        "discriminator_on_generator = generator_containing_discriminator(generator, discriminator)\n",
        "d_optim = SGD(lr=0.0005, momentum=0.9, nesterov=True)\n",
        "g_optim = SGD(lr=0.0005, momentum=0.9, nesterov=True)\n",
        "generator.compile(loss='binary_crossentropy', optimizer=\"SGD\")\n",
        "discriminator_on_generator.compile(loss='binary_crossentropy', optimizer=g_optim)\n",
        "discriminator.trainable = True\n",
        "discriminator.compile(loss='binary_crossentropy', optimizer=d_optim)\n",
        "        \n",
        "history = defaultdict(list)\n",
        "for epoch in tqdm(range(num_epochs)):  \n",
        "\n",
        "    # Generate images.\n",
        "    noisebatch = np.random.uniform(-1, 1, size=[batchsize,input_shape])\n",
        "    generated  = generator.predict(noisebatch)\n",
        "\n",
        "    # Update discriminator.\n",
        "    databatch  = X_train[np.random.randint(0,X_train.shape[0], size=batchsize), :]    \n",
        "    X          = np.concatenate([databatch, generated])\n",
        "    T          = np.concatenate([np.ones((databatch.shape[0],)), np.zeros((generated.shape[0],))]) # Real:1, fake:0\n",
        "    discriminator.trainable = True\n",
        "    d_loss  = discriminator.train_on_batch(X,T)\n",
        "    history[\"d_loss\"].append(d_loss)\n",
        "    \n",
        "    # Update generator.\n",
        "    noisebatch = np.random.uniform(-1, 1, size=[batchsize,input_shape])\n",
        "    T          = np.ones((noisebatch.shape[0],)) # Try to generate data that looks real.\n",
        "    discriminator.trainable = False\n",
        "    g_loss = gan.train_on_batch(noisebatch, T)\n",
        "    history[\"g_loss\"].append(g_loss)\n",
        "    \n",
        "    # Updates plots\n",
        "    if epoch % plt_frq == plt_frq - 1:\n",
        "        display.clear_output(wait=True)\n",
        "        display.display(plt.gcf())\n",
        "        plot_loss(history)\n",
        "        plot_gen(generator, input_shape=input_shape) "
      ],
      "execution_count": 0,
      "outputs": []
    }
  ]
}