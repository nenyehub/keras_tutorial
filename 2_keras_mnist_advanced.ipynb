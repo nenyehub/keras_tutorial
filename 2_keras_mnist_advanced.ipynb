{
  "nbformat": 4,
  "nbformat_minor": 0,
  "metadata": {
    "colab": {
      "name": "Copy of keras_mnist_2.ipynb",
      "version": "0.3.2",
      "provenance": [],
      "collapsed_sections": [],
      "include_colab_link": true
    },
    "kernelspec": {
      "display_name": "Python 3",
      "language": "python",
      "name": "python3"
    }
  },
  "cells": [
    {
      "cell_type": "markdown",
      "metadata": {
        "id": "view-in-github",
        "colab_type": "text"
      },
      "source": [
        "<a href=\"https://colab.research.google.com/github/peterjsadowski/keras_tutorial/blob/master/2_keras_mnist_advanced.ipynb\" target=\"_parent\"><img src=\"https://colab.research.google.com/assets/colab-badge.svg\" alt=\"Open In Colab\"/></a>"
      ]
    },
    {
      "metadata": {
        "id": "RPbBpk1NzpQ1",
        "colab_type": "text"
      },
      "cell_type": "markdown",
      "source": [
        "# Advanced Keras Tutorial\n",
        "This tutorial introduces:\n",
        "\n",
        "1) Using the GPU\n",
        "\n",
        "2) Data generators in Keras.\n",
        "\n",
        "3) Functional API for complex models.\n",
        " \n"
      ]
    },
    {
      "metadata": {
        "id": "B8zOyh7XzpQ3",
        "colab_type": "code",
        "outputId": "29492927-cead-4f65-ce42-8de7b0064886",
        "colab": {
          "base_uri": "https://localhost:8080/",
          "height": 50
        }
      },
      "cell_type": "code",
      "source": [
        "import numpy as np\n",
        "import numpy.random\n",
        "import matplotlib.pyplot as plt\n",
        "import os, sys, socket\n",
        "\n",
        "import tensorflow as tf\n",
        "try:\n",
        "    device_name = tf.test.gpu_device_name()\n",
        "    if device_name != '/device:GPU:0':\n",
        "        raise SystemError('GPU device not found')\n",
        "    print('Found GPU at: {}'.format(device_name))\n",
        "except:\n",
        "    print('No GPU found.')\n",
        "\n",
        "import keras\n",
        "from keras.datasets import mnist\n",
        "from keras.models import Model\n",
        "from keras.layers import Dense, Dropout, Activation, Input, Conv2D, Flatten\n",
        "import keras.layers.merge as merge\n",
        "from keras.layers.merge import Concatenate\n",
        "from keras.utils import np_utils\n",
        "from keras.optimizers import SGD, Adam"
      ],
      "execution_count": 2,
      "outputs": [
        {
          "output_type": "stream",
          "text": [
            "No GPU found.\n"
          ],
          "name": "stdout"
        },
        {
          "output_type": "stream",
          "text": [
            "Using TensorFlow backend.\n"
          ],
          "name": "stderr"
        }
      ]
    },
    {
      "metadata": {
        "id": "lrm9TejgzpQ9",
        "colab_type": "text"
      },
      "cell_type": "markdown",
      "source": [
        "## Define data generators for training and validation."
      ]
    },
    {
      "metadata": {
        "id": "vBOZOXe_zpQ-",
        "colab_type": "code",
        "colab": {}
      },
      "cell_type": "code",
      "source": [
        "# The following function is used to serve up both train and validation data.\n",
        "def data_generator(X, Y, batchsize):\n",
        "    nb_classes = 10\n",
        "    N = X.shape[0]\n",
        "    while True:\n",
        "        indices1 = np.random.randint(low=0, high=N, size=(batchsize,))\n",
        "        indices2 = np.random.randint(low=0, high=N, size=(batchsize,))\n",
        "        \n",
        "        X1 = X[indices1,...].astype('float32') / 255.0\n",
        "        X2 = X[indices2,...].astype('float32') / 255.0\n",
        "        Y1 = Y[indices1]\n",
        "        Y2 = Y[indices2]\n",
        "        T  = (Y1 + Y2) # Sum of values.\n",
        "        \n",
        "        X1 = np.expand_dims(X1, axis=1) # For conv with theano, shape=(batchsize, channels, row, col).\n",
        "        X2 = np.expand_dims(X2, axis=1) # We are just adding a dummy dimension saying that there is one channel.\n",
        "        \n",
        "        Y1 = np_utils.to_categorical(Y1, nb_classes)\n",
        "        Y2 = np_utils.to_categorical(Y2, nb_classes)\n",
        "        T  = np_utils.to_categorical(T, 19) # 19 possible values.\n",
        "        \n",
        "        yield {'input1':X1 , 'input2':X2},  {'out':T, 'aux1':Y1, 'aux2':Y2}\n",
        "        \n",
        "# Load data.\n",
        "(X_train, Y_train), (X_valid, Y_valid) = mnist.load_data() # Shape = (N,28,28), (N,)\n",
        "# Create generators.\n",
        "batchsize  = 200 \n",
        "data_train = data_generator(X_train, Y_train, batchsize)\n",
        "data_valid = data_generator(X_valid, Y_valid, batchsize)"
      ],
      "execution_count": 0,
      "outputs": []
    },
    {
      "metadata": {
        "id": "Gui8KjR-zpRB",
        "colab_type": "code",
        "outputId": "817d21fc-447c-4536-f1b6-5ffb0c16c78e",
        "colab": {
          "base_uri": "https://localhost:8080/",
          "height": 155
        }
      },
      "cell_type": "code",
      "source": [
        "# Plot examples of the data.\n",
        "inputs, outputs = data_train.__next__()\n",
        "Xbatch = inputs['input1']\n",
        "plt.figure(1, figsize=(14,2))\n",
        "for i in range(10):\n",
        "    plt.subplot(2,10,i+1)\n",
        "    plt.imshow(inputs['input1'][i].reshape(28,28), cmap='gray', interpolation='nearest')\n",
        "    plt.xticks([])\n",
        "    plt.yticks([])\n",
        "    plt.title('Target=%d' % np.argmax(outputs['out'][i]))\n",
        "    plt.subplot(2,10,10+i+1)\n",
        "    plt.imshow(inputs['input2'][i].reshape(28,28), cmap='gray', interpolation='nearest')\n",
        "    plt.xticks([])\n",
        "    plt.yticks([])"
      ],
      "execution_count": 4,
      "outputs": [
        {
          "output_type": "display_data",
          "data": {
            "image/png": "[encoded data removed]",
            "text/plain": [
              "<Figure size 1008x144 with 20 Axes>"
            ]
          },
          "metadata": {
            "tags": []
          }
        }
      ]
    },
    {
      "metadata": {
        "id": "rNfItrsTzpRF",
        "colab_type": "text"
      },
      "cell_type": "markdown",
      "source": [
        "# Define Keras Model with the Functional API\n"
      ]
    },
    {
      "metadata": {
        "id": "dGg_p1h2zpRH",
        "colab_type": "code",
        "outputId": "2ac5fbdc-837f-49f6-ea0f-0e008078877f",
        "colab": {
          "base_uri": "https://localhost:8080/",
          "height": 558
        }
      },
      "cell_type": "code",
      "source": [
        "# Input data.\n",
        "input1   = Input(shape=(1, 28,28), dtype='float32', name='input1') # Argument 'name' must match name in dictionary.\n",
        "input2   = Input(shape=(1, 28,28), dtype='float32', name='input2')\n",
        "\n",
        "# Layer one: Single convolutional layer applied to each input independently, with \"shared weights.\"\n",
        "nb_filter      = 32     # Number of convolutional kernels.\n",
        "nb_row, nb_col = 7,7   # Convolution kernel size.\n",
        "strides        = (3,3) # Step size for convolution kernels.\n",
        "conv  =  Conv2D(nb_filter, (nb_row, nb_col), activation='relu', padding='same', strides=strides)\n",
        "x1    = conv(input1) # Layer object conv transforms data.\n",
        "x2    = conv(input2)\n",
        "\n",
        "# Flatten data: transform from (28,28) to (784,)\n",
        "x1 = Flatten()(x1)\n",
        "x2 = Flatten()(x2)\n",
        "\n",
        "# Layer two: Single fully-connected layer applied to each input independently, with shared weights.\n",
        "layer = Dense(256, activation='relu')\n",
        "x1 = layer(x1)\n",
        "x2 = layer(x2)\n",
        "\n",
        "# Auxiliary softmax layers try to classify digits. \n",
        "# The output of these layers aren't fed into the next layer.\n",
        "#layer = Dense(10) # These weights are shared.\n",
        "#aux1  = Activation(activation='softmax', name='aux1')(layer(x1)) # Output layers must be named.\n",
        "#aux2  = Activation(activation='softmax', name='aux2')(layer(x2))\n",
        "\n",
        "# Merge hidden representations.\n",
        "#x = merge.Concatenate()([x1, x2])\n",
        "x = Concatenate()([x1, x2])\n",
        "\n",
        "# More dense layers then output.\n",
        "x   = Dense(512, activation='relu')(x)\n",
        "out = Dense(19, activation='softmax', name='out')(x) # Output layers must be named.\n",
        "\n",
        "# Create model object that puts it all together.\n",
        "#model = Model(inputs=[input1, input2], outputs=[out, aux1, aux2])\n",
        "model = Model(inputs=[input1, input2], outputs=[out])\n",
        "model.summary()"
      ],
      "execution_count": 5,
      "outputs": [
        {
          "output_type": "stream",
          "text": [
            "WARNING:tensorflow:From /usr/local/lib/python3.6/dist-packages/tensorflow/python/framework/op_def_library.py:263: colocate_with (from tensorflow.python.framework.ops) is deprecated and will be removed in a future version.\n",
            "Instructions for updating:\n",
            "Colocations handled automatically by placer.\n",
            "__________________________________________________________________________________________________\n",
            "Layer (type)                    Output Shape         Param #     Connected to                     \n",
            "==================================================================================================\n",
            "input1 (InputLayer)             (None, 1, 28, 28)    0                                            \n",
            "__________________________________________________________________________________________________\n",
            "input2 (InputLayer)             (None, 1, 28, 28)    0                                            \n",
            "__________________________________________________________________________________________________\n",
            "conv2d_1 (Conv2D)               (None, 1, 10, 32)    43936       input1[0][0]                     \n",
            "                                                                 input2[0][0]                     \n",
            "__________________________________________________________________________________________________\n",
            "flatten_1 (Flatten)             (None, 320)          0           conv2d_1[0][0]                   \n",
            "__________________________________________________________________________________________________\n",
            "flatten_2 (Flatten)             (None, 320)          0           conv2d_1[1][0]                   \n",
            "__________________________________________________________________________________________________\n",
            "dense_1 (Dense)                 (None, 256)          82176       flatten_1[0][0]                  \n",
            "                                                                 flatten_2[0][0]                  \n",
            "__________________________________________________________________________________________________\n",
            "concatenate_1 (Concatenate)     (None, 512)          0           dense_1[0][0]                    \n",
            "                                                                 dense_1[1][0]                    \n",
            "__________________________________________________________________________________________________\n",
            "dense_2 (Dense)                 (None, 512)          262656      concatenate_1[0][0]              \n",
            "__________________________________________________________________________________________________\n",
            "out (Dense)                     (None, 19)           9747        dense_2[0][0]                    \n",
            "==================================================================================================\n",
            "Total params: 398,515\n",
            "Trainable params: 398,515\n",
            "Non-trainable params: 0\n",
            "__________________________________________________________________________________________________\n"
          ],
          "name": "stdout"
        }
      ]
    },
    {
      "metadata": {
        "id": "nXH5jZGHzpRL",
        "colab_type": "text"
      },
      "cell_type": "markdown",
      "source": [
        "# Optimization"
      ]
    },
    {
      "metadata": {
        "id": "j_KuS3jSzpRM",
        "colab_type": "code",
        "colab": {}
      },
      "cell_type": "code",
      "source": [
        "optimizer = Adam(lr=0.001, beta_1=0.99, beta_2=0.999, epsilon=1e-08) # Optimization hyperparameters.\n",
        "\n",
        "model.compile(optimizer=optimizer,\n",
        "              loss={'out':'categorical_crossentropy'},\n",
        "              loss_weights={'out': 1.0}, # \n",
        "              metrics=['accuracy'])\n"
      ],
      "execution_count": 0,
      "outputs": []
    },
    {
      "metadata": {
        "id": "HMuCALu9zpRP",
        "colab_type": "text"
      },
      "cell_type": "markdown",
      "source": [
        "## Train the model."
      ]
    },
    {
      "metadata": {
        "id": "hkgjaFS-zpRQ",
        "colab_type": "code",
        "outputId": "4520f2a4-2f8f-40cc-867e-5735593a4e3b",
        "colab": {
          "base_uri": "https://localhost:8080/",
          "height": 423
        }
      },
      "cell_type": "code",
      "source": [
        "# Callbacks can be used to stop early, decrease learning rate, checkpoint the model, etc.\n",
        "#from keras.callbacks import EarlyStopping\n",
        "#stopping  = keras.callbacks.EarlyStopping(monitor='val_loss', patience=0, verbose=0, mode='auto')\n",
        "callbacks = []#[stopping]\n",
        "\n",
        "# The fit_generator function loads data batches on the fly, instead of transfering entire data set to the gpu.\n",
        "history   = model.fit_generator(generator=data_train, steps_per_epoch=100, # 500\n",
        "                                epochs=10, verbose=1,\n",
        "                                callbacks=callbacks, \n",
        "                                validation_data=data_valid, validation_steps=100)"
      ],
      "execution_count": 9,
      "outputs": [
        {
          "output_type": "stream",
          "text": [
            "WARNING:tensorflow:From /usr/local/lib/python3.6/dist-packages/tensorflow/python/ops/math_ops.py:3066: to_int32 (from tensorflow.python.ops.math_ops) is deprecated and will be removed in a future version.\n",
            "Instructions for updating:\n",
            "Use tf.cast instead.\n",
            "Epoch 1/10\n",
            "100/100 [==============================] - 7s 74ms/step - loss: 2.5282 - acc: 0.1630 - val_loss: 2.1615 - val_acc: 0.2457\n",
            "Epoch 2/10\n",
            "100/100 [==============================] - 8s 75ms/step - loss: 1.8280 - acc: 0.3599 - val_loss: 1.4547 - val_acc: 0.5298\n",
            "Epoch 3/10\n",
            "100/100 [==============================] - 7s 75ms/step - loss: 1.1171 - acc: 0.6488 - val_loss: 0.8004 - val_acc: 0.7674\n",
            "Epoch 4/10\n",
            "100/100 [==============================] - 8s 77ms/step - loss: 0.6590 - acc: 0.8048 - val_loss: 0.5271 - val_acc: 0.8530\n",
            "Epoch 5/10\n",
            "100/100 [==============================] - 8s 79ms/step - loss: 0.4533 - acc: 0.8708 - val_loss: 0.3860 - val_acc: 0.8888\n",
            "Epoch 6/10\n",
            "100/100 [==============================] - 8s 77ms/step - loss: 0.3450 - acc: 0.9023 - val_loss: 0.3087 - val_acc: 0.9102\n",
            "Epoch 7/10\n",
            "100/100 [==============================] - 8s 75ms/step - loss: 0.2938 - acc: 0.9156 - val_loss: 0.2604 - val_acc: 0.9231\n",
            "Epoch 8/10\n",
            "100/100 [==============================] - 8s 76ms/step - loss: 0.2277 - acc: 0.9346 - val_loss: 0.2181 - val_acc: 0.9338\n",
            "Epoch 9/10\n",
            "100/100 [==============================] - 8s 77ms/step - loss: 0.2012 - acc: 0.9410 - val_loss: 0.1984 - val_acc: 0.9396\n",
            "Epoch 10/10\n",
            "100/100 [==============================] - 8s 77ms/step - loss: 0.1710 - acc: 0.9509 - val_loss: 0.1725 - val_acc: 0.9469\n"
          ],
          "name": "stdout"
        }
      ]
    },
    {
      "metadata": {
        "id": "Vgj-AWt_zpRU",
        "colab_type": "code",
        "outputId": "11d4ce30-4db3-4d79-a1b4-d57ff2e14855",
        "colab": {
          "base_uri": "https://localhost:8080/",
          "height": 350
        }
      },
      "cell_type": "code",
      "source": [
        "# Plot loss trajectory throughout training.\n",
        "plt.figure(1, figsize=(10,5))\n",
        "plt.plot(history.history['acc'], label='primary')\n",
        "plt.xlabel('Epoch')\n",
        "plt.ylabel('Accuracy')\n",
        "plt.legend()"
      ],
      "execution_count": 11,
      "outputs": [
        {
          "output_type": "execute_result",
          "data": {
            "text/plain": [
              "<matplotlib.legend.Legend at 0x7f66a249b550>"
            ]
          },
          "metadata": {
            "tags": []
          },
          "execution_count": 11
        },
        {
          "output_type": "display_data",
          "data": {
            "image/png": "[encoded data removed]",
            "text/plain": [
              "<Figure size 720x360 with 1 Axes>"
            ]
          },
          "metadata": {
            "tags": []
          }
        }
      ]
    },
    {
      "metadata": {
        "id": "L6doGuvdzpRY",
        "colab_type": "text"
      },
      "cell_type": "markdown",
      "source": [
        "# Post-training analysis."
      ]
    },
    {
      "metadata": {
        "id": "s1hFaHsOzpRZ",
        "colab_type": "code",
        "outputId": "cf859a38-9ca7-4e5b-be04-a4ea7d5b74b4",
        "colab": {
          "base_uri": "https://localhost:8080/",
          "height": 224
        }
      },
      "cell_type": "code",
      "source": [
        "# Plot example pairs for which the network made a mistake.\n",
        "inputs, outputs = data_valid.__next__()\n",
        "plt.figure(1, figsize=(14,3))\n",
        "i = 0\n",
        "while i < 10:\n",
        "    inputs, outputs = data_valid.__next__()\n",
        "    predictions = model.predict(inputs)\n",
        "    j = 0\n",
        "    while j < 100:\n",
        "        yhat   = predictions[j].argmax(axis=-1) # predictions is list: [out, aux1, aux2]\n",
        "        y      = np.argmax(outputs['out'][j])\n",
        "        input1 = inputs['input1'][j].reshape(28,28)\n",
        "        input2 = inputs['input2'][j].reshape(28,28)\n",
        "        j += 1\n",
        "        if yhat != y:\n",
        "            # Prediction was correct. Ignore this example.\n",
        "            continue\n",
        "        else:\n",
        "            # Prediction was incorrect. Show example.\n",
        "            plt.subplot(2,10,i+1)\n",
        "            plt.imshow(input1, cmap='gray', interpolation='nearest')\n",
        "            plt.xticks([])\n",
        "            plt.yticks([])\n",
        "            plt.title('Pred=%d' % yhat)\n",
        "            plt.title('$y=%d$\\n$\\hat{y}=%d$' % (y,yhat))\n",
        "            plt.subplot(2,10,10+i+1)\n",
        "            plt.imshow(input2, cmap='gray', interpolation='nearest')\n",
        "            plt.xticks([])\n",
        "            plt.yticks([])\n",
        "            i += 1\n",
        "        if not i<10:\n",
        "            break\n",
        "        "
      ],
      "execution_count": 14,
      "outputs": [
        {
          "output_type": "display_data",
          "data": {
            "image/png": "[encoded data removed]",
            "text/plain": [
              "<Figure size 1008x216 with 20 Axes>"
            ]
          },
          "metadata": {
            "tags": []
          }
        }
      ]
    }
  ]
}