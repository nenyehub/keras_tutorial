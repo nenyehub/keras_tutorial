{
  "nbformat": 4,
  "nbformat_minor": 0,
  "metadata": {
    "colab": {
      "name": "keras_mnist_2.ipynb",
      "version": "0.3.2",
      "provenance": [],
      "collapsed_sections": [],
      "include_colab_link": true
    },
    "kernelspec": {
      "display_name": "Python 3",
      "language": "python",
      "name": "python3"
    }
  },
  "cells": [
    {
      "cell_type": "markdown",
      "metadata": {
        "id": "view-in-github",
        "colab_type": "text"
      },
      "source": [
        "[View in Colaboratory](https://colab.research.google.com/github/peterjsadowski/keras_tutorial/blob/master/2_keras_mnist_advanced.ipynb)"
      ]
    },
    {
      "metadata": {
        "id": "RPbBpk1NzpQ1",
        "colab_type": "text"
      },
      "cell_type": "markdown",
      "source": [
        "# Advanced Keras Tutorial\n",
        "This tutorial introduces:\n",
        "\n",
        "1) Using the GPU\n",
        "\n",
        "2) Data generators in Keras.\n",
        "\n",
        "3) Functional API for complex models.\n",
        " \n"
      ]
    },
    {
      "metadata": {
        "id": "B8zOyh7XzpQ3",
        "colab_type": "code",
        "colab": {},
        "outputId": "0756ddd7-62ac-4a8e-9063-b6a4e397f4bd"
      },
      "cell_type": "code",
      "source": [
        "import numpy as np\n",
        "import numpy.random\n",
        "import matplotlib.pyplot as plt\n",
        "import os, sys, socket\n",
        "\n",
        "import tensorflow as tf\n",
        "try:\n",
        "    device_name = tf.test.gpu_device_name()\n",
        "    if device_name != '/device:GPU:0':\n",
        "        raise SystemError('GPU device not found')\n",
        "    print('Found GPU at: {}'.format(device_name))\n",
        "except:\n",
        "    print('No GPU found.')\n",
        "\n",
        "import keras\n",
        "from keras.datasets import mnist\n",
        "from keras.models import Model\n",
        "from keras.layers import Dense, Dropout, Activation, Input, Conv2D, Flatten\n",
        "import keras.layers.merge as merge\n",
        "from keras.layers.merge import Concatenate\n",
        "from keras.utils import np_utils\n",
        "from keras.optimizers import SGD, Adam"
      ],
      "execution_count": 0,
      "outputs": [
        {
          "output_type": "stream",
          "text": [
            "/opt/anaconda3/anaconda3/lib/python3.6/site-packages/h5py/__init__.py:36: FutureWarning: Conversion of the second argument of issubdtype from `float` to `np.floating` is deprecated. In future, it will be treated as `np.float64 == np.dtype(float).type`.\n",
            "  from ._conv import register_converters as _register_converters\n",
            "Using TensorFlow backend.\n"
          ],
          "name": "stderr"
        }
      ]
    },
    {
      "metadata": {
        "id": "lrm9TejgzpQ9",
        "colab_type": "text"
      },
      "cell_type": "markdown",
      "source": [
        "## Define data generators for training and validation."
      ]
    },
    {
      "metadata": {
        "id": "vBOZOXe_zpQ-",
        "colab_type": "code",
        "colab": {}
      },
      "cell_type": "code",
      "source": [
        "# The following function is used to serve up both train and validation data.\n",
        "def data_generator(X, Y, batchsize):\n",
        "    nb_classes = 10\n",
        "    N = X.shape[0]\n",
        "    while True:\n",
        "        indices1 = np.random.randint(low=0, high=N, size=(batchsize,))\n",
        "        indices2 = np.random.randint(low=0, high=N, size=(batchsize,))\n",
        "        \n",
        "        X1 = X[indices1,...].astype('float32') / 255.0\n",
        "        X2 = X[indices2,...].astype('float32') / 255.0\n",
        "        Y1 = Y[indices1]\n",
        "        Y2 = Y[indices2]\n",
        "        T  = (Y1 + Y2) # Sum of values.\n",
        "        \n",
        "        X1 = np.expand_dims(X1, axis=1) # For conv with theano, shape=(batchsize, channels, row, col).\n",
        "        X2 = np.expand_dims(X2, axis=1) # We are just adding a dummy dimension saying that there is one channel.\n",
        "        \n",
        "        Y1 = np_utils.to_categorical(Y1, nb_classes)\n",
        "        Y2 = np_utils.to_categorical(Y2, nb_classes)\n",
        "        T  = np_utils.to_categorical(T, 19) # 19 possible values.\n",
        "        \n",
        "        yield {'input1':X1 , 'input2':X2},  {'out':T, 'aux1':Y1, 'aux2':Y2}\n",
        "        \n",
        "# Load data.\n",
        "(X_train, Y_train), (X_valid, Y_valid) = mnist.load_data() # Shape = (N,28,28), (N,)\n",
        "# Create generators.\n",
        "batchsize  = 200 \n",
        "data_train = data_generator(X_train, Y_train, batchsize)\n",
        "data_valid = data_generator(X_valid, Y_valid, batchsize)"
      ],
      "execution_count": 0,
      "outputs": []
    },
    {
      "metadata": {
        "id": "Gui8KjR-zpRB",
        "colab_type": "code",
        "colab": {},
        "outputId": "1dfb3c5b-195f-4d78-e8a8-02838dbca72e"
      },
      "cell_type": "code",
      "source": [
        "# Plot examples of the data.\n",
        "inputs, outputs = data_train.__next__()\n",
        "Xbatch = inputs['input1']\n",
        "plt.figure(1, figsize=(14,2))\n",
        "for i in range(10):\n",
        "    plt.subplot(2,10,i+1)\n",
        "    plt.imshow(inputs['input1'][i].reshape(28,28), cmap='gray', interpolation='nearest')\n",
        "    plt.xticks([])\n",
        "    plt.yticks([])\n",
        "    plt.title('Target=%d' % np.argmax(outputs['out'][i]))\n",
        "    plt.subplot(2,10,10+i+1)\n",
        "    plt.imshow(inputs['input2'][i].reshape(28,28), cmap='gray', interpolation='nearest')\n",
        "    plt.xticks([])\n",
        "    plt.yticks([])"
      ],
      "execution_count": 0,
      "outputs": [
        {
          "output_type": "display_data",
          "data": {
            "image/png": "[encoded data removed]",
            "text/plain": [
              "<Figure size 1008x144 with 20 Axes>"
            ]
          },
          "metadata": {
            "tags": []
          }
        }
      ]
    },
    {
      "metadata": {
        "id": "rNfItrsTzpRF",
        "colab_type": "text"
      },
      "cell_type": "markdown",
      "source": [
        "# Define Keras Model with the Functional API\n"
      ]
    },
    {
      "metadata": {
        "id": "dGg_p1h2zpRH",
        "colab_type": "code",
        "colab": {},
        "outputId": "96cb4040-7233-4949-cfb9-7ffe2fe6d3ac"
      },
      "cell_type": "code",
      "source": [
        "# Input data.\n",
        "input1   = Input(shape=(1, 28,28), dtype='float32', name='input1') # Argument 'name' must match name in dictionary.\n",
        "input2   = Input(shape=(1, 28,28), dtype='float32', name='input2')\n",
        "\n",
        "# Layer one: Single convolutional layer applied to each input independently, with \"shared weights.\"\n",
        "nb_filter      = 32     # Number of convolutional kernels.\n",
        "nb_row, nb_col = 7,7   # Convolution kernel size.\n",
        "strides        = (3,3) # Step size for convolution kernels.\n",
        "conv  =  Conv2D(nb_filter, (nb_row, nb_col), activation='relu', padding='same', strides=strides)\n",
        "x1    = conv(input1) # Layer object conv transforms data.\n",
        "x2    = conv(input2)\n",
        "\n",
        "# Flatten data: transform from (28,28) to (784,)\n",
        "x1 = Flatten()(x1)\n",
        "x2 = Flatten()(x2)\n",
        "\n",
        "# Layer two: Single fully-connected layer applied to each input independently, with shared weights.\n",
        "layer = Dense(256, activation='relu')\n",
        "x1 = layer(x1)\n",
        "x2 = layer(x2)\n",
        "\n",
        "# Auxiliary softmax layers try to classify digits. \n",
        "# The output of these layers aren't fed into the next layer.\n",
        "layer = Dense(10) # These weights are shared.\n",
        "aux1  = Activation(activation='softmax', name='aux1')(layer(x1)) # Output layers must be named.\n",
        "aux2  = Activation(activation='softmax', name='aux2')(layer(x2))\n",
        "\n",
        "# Merge hidden representations.\n",
        "#x = merge.Concatenate()([x1, x2])\n",
        "x = Concatenate()([x1, x2])\n",
        "\n",
        "# More dense layers then output.\n",
        "x   = Dense(512, activation='relu')(x)\n",
        "out = Dense(19, activation='softmax', name='out')(x) # Output layers must be named.\n",
        "\n",
        "# Create model object that puts it all together.\n",
        "model = Model(inputs=[input1, input2], outputs=[out, aux1, aux2])\n",
        "model.summary()"
      ],
      "execution_count": 0,
      "outputs": [
        {
          "output_type": "stream",
          "text": [
            "__________________________________________________________________________________________________\n",
            "Layer (type)                    Output Shape         Param #     Connected to                     \n",
            "==================================================================================================\n",
            "input1 (InputLayer)             (None, 1, 28, 28)    0                                            \n",
            "__________________________________________________________________________________________________\n",
            "input2 (InputLayer)             (None, 1, 28, 28)    0                                            \n",
            "__________________________________________________________________________________________________\n",
            "conv2d_2 (Conv2D)               (None, 1, 10, 32)    43936       input1[0][0]                     \n",
            "                                                                 input2[0][0]                     \n",
            "__________________________________________________________________________________________________\n",
            "flatten_3 (Flatten)             (None, 320)          0           conv2d_2[0][0]                   \n",
            "__________________________________________________________________________________________________\n",
            "flatten_4 (Flatten)             (None, 320)          0           conv2d_2[1][0]                   \n",
            "__________________________________________________________________________________________________\n",
            "dense_4 (Dense)                 (None, 256)          82176       flatten_3[0][0]                  \n",
            "                                                                 flatten_4[0][0]                  \n",
            "__________________________________________________________________________________________________\n",
            "concatenate_2 (Concatenate)     (None, 512)          0           dense_4[0][0]                    \n",
            "                                                                 dense_4[1][0]                    \n",
            "__________________________________________________________________________________________________\n",
            "dense_6 (Dense)                 (None, 512)          262656      concatenate_2[0][0]              \n",
            "__________________________________________________________________________________________________\n",
            "dense_5 (Dense)                 (None, 10)           2570        dense_4[0][0]                    \n",
            "                                                                 dense_4[1][0]                    \n",
            "__________________________________________________________________________________________________\n",
            "out (Dense)                     (None, 19)           9747        dense_6[0][0]                    \n",
            "__________________________________________________________________________________________________\n",
            "aux1 (Activation)               (None, 10)           0           dense_5[0][0]                    \n",
            "__________________________________________________________________________________________________\n",
            "aux2 (Activation)               (None, 10)           0           dense_5[1][0]                    \n",
            "==================================================================================================\n",
            "Total params: 401,085\n",
            "Trainable params: 401,085\n",
            "Non-trainable params: 0\n",
            "__________________________________________________________________________________________________\n"
          ],
          "name": "stdout"
        }
      ]
    },
    {
      "metadata": {
        "id": "nXH5jZGHzpRL",
        "colab_type": "text"
      },
      "cell_type": "markdown",
      "source": [
        "# Optimization"
      ]
    },
    {
      "metadata": {
        "id": "j_KuS3jSzpRM",
        "colab_type": "code",
        "colab": {}
      },
      "cell_type": "code",
      "source": [
        "optimizer = Adam(lr=0.001, beta_1=0.99, beta_2=0.999, epsilon=1e-08) # Optimization hyperparameters.\n",
        "\n",
        "model.compile(optimizer=optimizer,\n",
        "              loss={'out':'categorical_crossentropy',\n",
        "                    'aux1':'categorical_crossentropy',\n",
        "                    'aux2':'categorical_crossentropy'},\n",
        "              #loss_weights={'out': 1.0, 'aux1': 1.0, 'aux2':1.0}, # Using these auxiliary outputs makes the problem easy.\n",
        "              loss_weights={'out': 1.0, 'aux1': 0.0, 'aux2':0.0}, # \n",
        "              metrics=['accuracy'])\n"
      ],
      "execution_count": 0,
      "outputs": []
    },
    {
      "metadata": {
        "id": "HMuCALu9zpRP",
        "colab_type": "text"
      },
      "cell_type": "markdown",
      "source": [
        "## Train the model."
      ]
    },
    {
      "metadata": {
        "id": "hkgjaFS-zpRQ",
        "colab_type": "code",
        "colab": {},
        "outputId": "8b969b46-cc12-43c4-cecd-f3a498873041"
      },
      "cell_type": "code",
      "source": [
        "# Callbacks can be used to stop early, decrease learning rate, checkpoint the model, etc.\n",
        "#from keras.callbacks import EarlyStopping\n",
        "#stopping  = keras.callbacks.EarlyStopping(monitor='val_loss', patience=0, verbose=0, mode='auto')\n",
        "callbacks = []#[stopping]\n",
        "\n",
        "# The fit_generator function loads data batches on the fly, instead of transfering entire data set to the gpu.\n",
        "history   = model.fit_generator(generator=data_train, steps_per_epoch=100, # 500\n",
        "                                epochs=10, verbose=1,\n",
        "                                callbacks=callbacks, \n",
        "                                validation_data=data_valid, validation_steps=100)"
      ],
      "execution_count": 0,
      "outputs": [
        {
          "output_type": "stream",
          "text": [
            "Epoch 1/10\n",
            "100/100 [==============================] - 8s 76ms/step - loss: 2.4534 - out_loss: 2.4534 - aux1_loss: 2.3206 - aux2_loss: 2.3209 - out_acc: 0.1682 - aux1_acc: 0.1286 - aux2_acc: 0.1292 - val_loss: 2.0920 - val_out_loss: 2.0920 - val_aux1_loss: 2.3490 - val_aux2_loss: 2.3468 - val_out_acc: 0.2430 - val_aux1_acc: 0.1315 - val_aux2_acc: 0.1341\n",
            "Epoch 2/10\n",
            "100/100 [==============================] - 6s 58ms/step - loss: 1.8076 - out_loss: 1.8076 - aux1_loss: 2.3858 - aux2_loss: 2.3884 - out_acc: 0.3633 - aux1_acc: 0.1111 - aux2_acc: 0.1094 - val_loss: 1.4390 - val_out_loss: 1.4390 - val_aux1_loss: 2.4756 - val_aux2_loss: 2.4760 - val_out_acc: 0.5237 - val_aux1_acc: 0.0964 - val_aux2_acc: 0.0950\n",
            "Epoch 3/10\n",
            "100/100 [==============================] - 6s 61ms/step - loss: 1.0616 - out_loss: 1.0616 - aux1_loss: 2.5939 - aux2_loss: 2.5999 - out_acc: 0.6641 - aux1_acc: 0.1225 - aux2_acc: 0.1183 - val_loss: 0.7447 - val_out_loss: 0.7447 - val_aux1_loss: 2.6225 - val_aux2_loss: 2.6421 - val_out_acc: 0.7807 - val_aux1_acc: 0.1497 - val_aux2_acc: 0.1414\n",
            "Epoch 4/10\n",
            "100/100 [==============================] - 6s 61ms/step - loss: 0.6128 - out_loss: 0.6128 - aux1_loss: 2.6104 - aux2_loss: 2.6033 - out_acc: 0.8229 - aux1_acc: 0.1607 - aux2_acc: 0.1651 - val_loss: 0.5064 - val_out_loss: 0.5064 - val_aux1_loss: 2.5793 - val_aux2_loss: 2.5873 - val_out_acc: 0.8610 - val_aux1_acc: 0.1844 - val_aux2_acc: 0.1827\n",
            "Epoch 5/10\n",
            "100/100 [==============================] - 6s 63ms/step - loss: 0.4219 - out_loss: 0.4219 - aux1_loss: 2.5843 - aux2_loss: 2.5562 - out_acc: 0.8762 - aux1_acc: 0.1677 - aux2_acc: 0.1763 - val_loss: 0.3574 - val_out_loss: 0.3574 - val_aux1_loss: 2.5821 - val_aux2_loss: 2.5828 - val_out_acc: 0.8940 - val_aux1_acc: 0.1693 - val_aux2_acc: 0.1642\n",
            "Epoch 6/10\n",
            "100/100 [==============================] - 7s 71ms/step - loss: 0.3129 - out_loss: 0.3129 - aux1_loss: 2.5838 - aux2_loss: 2.5814 - out_acc: 0.9084 - aux1_acc: 0.1532 - aux2_acc: 0.1575 - val_loss: 0.2826 - val_out_loss: 0.2826 - val_aux1_loss: 2.5859 - val_aux2_loss: 2.5885 - val_out_acc: 0.9160 - val_aux1_acc: 0.1468 - val_aux2_acc: 0.1427\n",
            "Epoch 7/10\n",
            "100/100 [==============================] - 6s 62ms/step - loss: 0.2554 - out_loss: 0.2554 - aux1_loss: 2.5648 - aux2_loss: 2.5692 - out_acc: 0.9233 - aux1_acc: 0.1421 - aux2_acc: 0.1377 - val_loss: 0.2511 - val_out_loss: 0.2511 - val_aux1_loss: 2.5673 - val_aux2_loss: 2.5679 - val_out_acc: 0.9258 - val_aux1_acc: 0.1488 - val_aux2_acc: 0.1489\n",
            "Epoch 8/10\n",
            "100/100 [==============================] - 7s 68ms/step - loss: 0.2114 - out_loss: 0.2114 - aux1_loss: 2.5663 - aux2_loss: 2.5657 - out_acc: 0.9374 - aux1_acc: 0.1475 - aux2_acc: 0.1485 - val_loss: 0.2312 - val_out_loss: 0.2312 - val_aux1_loss: 2.5456 - val_aux2_loss: 2.5500 - val_out_acc: 0.9301 - val_aux1_acc: 0.1646 - val_aux2_acc: 0.1588\n",
            "Epoch 9/10\n",
            "100/100 [==============================] - 6s 65ms/step - loss: 0.1949 - out_loss: 0.1949 - aux1_loss: 2.5332 - aux2_loss: 2.5381 - out_acc: 0.9430 - aux1_acc: 0.1554 - aux2_acc: 0.1575 - val_loss: 0.1874 - val_out_loss: 0.1874 - val_aux1_loss: 2.5228 - val_aux2_loss: 2.5184 - val_out_acc: 0.9438 - val_aux1_acc: 0.1580 - val_aux2_acc: 0.1603\n",
            "Epoch 10/10\n",
            "100/100 [==============================] - 7s 74ms/step - loss: 0.1702 - out_loss: 0.1702 - aux1_loss: 2.5258 - aux2_loss: 2.5265 - out_acc: 0.9502 - aux1_acc: 0.1429 - aux2_acc: 0.1442 - val_loss: 0.1777 - val_out_loss: 0.1777 - val_aux1_loss: 2.5288 - val_aux2_loss: 2.5374 - val_out_acc: 0.9472 - val_aux1_acc: 0.1476 - val_aux2_acc: 0.1400\n"
          ],
          "name": "stdout"
        }
      ]
    },
    {
      "metadata": {
        "id": "Vgj-AWt_zpRU",
        "colab_type": "code",
        "colab": {},
        "outputId": "639fca7a-c821-474f-9b0d-521660ee9d43"
      },
      "cell_type": "code",
      "source": [
        "# Plot loss trajectory throughout training.\n",
        "plt.figure(1, figsize=(10,5))\n",
        "plt.plot(history.history['out_acc'], label='primary')\n",
        "plt.plot(history.history['aux1_acc'], label='aux1')\n",
        "plt.plot(history.history['aux2_acc'], label='aux2')\n",
        "plt.xlabel('Epoch')\n",
        "plt.ylabel('Accuracy')\n",
        "plt.legend()"
      ],
      "execution_count": 0,
      "outputs": [
        {
          "output_type": "execute_result",
          "data": {
            "text/plain": [
              "<matplotlib.legend.Legend at 0x7fa930140908>"
            ]
          },
          "metadata": {
            "tags": []
          },
          "execution_count": 8
        },
        {
          "output_type": "display_data",
          "data": {
            "image/png": "[encoded data removed]",
            "text/plain": [
              "<Figure size 720x360 with 1 Axes>"
            ]
          },
          "metadata": {
            "tags": []
          }
        }
      ]
    },
    {
      "metadata": {
        "id": "L6doGuvdzpRY",
        "colab_type": "text"
      },
      "cell_type": "markdown",
      "source": [
        "# Post-training analysis."
      ]
    },
    {
      "metadata": {
        "id": "s1hFaHsOzpRZ",
        "colab_type": "code",
        "colab": {},
        "outputId": "838954e0-096c-4851-d537-b9c5c327aebc"
      },
      "cell_type": "code",
      "source": [
        "# Plot example pairs for which the network made a mistake.\n",
        "inputs, outputs = data_valid.__next__()\n",
        "plt.figure(1, figsize=(14,3))\n",
        "i = 0\n",
        "while i < 10:\n",
        "    inputs, outputs = data_valid.__next__()\n",
        "    predictions = model.predict(inputs)\n",
        "    j = 0\n",
        "    while j < 100:\n",
        "        yhat   = predictions[0][j].argmax(axis=-1) # predictions is list: [out, aux1, aux2]\n",
        "        y      = np.argmax(outputs['out'][j])\n",
        "        input1 = inputs['input1'][j].reshape(28,28)\n",
        "        input2 = inputs['input2'][j].reshape(28,28)\n",
        "        j += 1\n",
        "        if yhat != y:\n",
        "            # Prediction was correct. Ignore this example.\n",
        "            continue\n",
        "        else:\n",
        "            # Prediction was incorrect. Show example.\n",
        "            plt.subplot(2,10,i+1)\n",
        "            plt.imshow(input1, cmap='gray', interpolation='nearest')\n",
        "            plt.xticks([])\n",
        "            plt.yticks([])\n",
        "            plt.title('Pred=%d' % yhat)\n",
        "            plt.title('$y=%d$\\n$\\hat{y}=%d$' % (y,yhat))\n",
        "            plt.subplot(2,10,10+i+1)\n",
        "            plt.imshow(input2, cmap='gray', interpolation='nearest')\n",
        "            plt.xticks([])\n",
        "            plt.yticks([])\n",
        "            i += 1\n",
        "        if not i<10:\n",
        "            break\n",
        "        "
      ],
      "execution_count": 0,
      "outputs": [
        {
          "output_type": "display_data",
          "data": {
            "image/png": "[encoded data removed]",
            "text/plain": [
              "<Figure size 1008x216 with 20 Axes>"
            ]
          },
          "metadata": {
            "tags": []
          }
        }
      ]
    },
    {
      "metadata": {
        "id": "ALxOJfJTzpRd",
        "colab_type": "code",
        "colab": {}
      },
      "cell_type": "code",
      "source": [
        ""
      ],
      "execution_count": 0,
      "outputs": []
    }
  ]
}